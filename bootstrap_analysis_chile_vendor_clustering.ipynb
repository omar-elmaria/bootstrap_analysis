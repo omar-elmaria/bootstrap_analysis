{
 "cells": [
  {
   "cell_type": "code",
   "execution_count": 1,
   "metadata": {},
   "outputs": [
    {
     "name": "stderr",
     "output_type": "stream",
     "text": [
      "g:\\My Drive\\APAC\\Autopricing\\Switchback Testing\\switchback_test_dag\\venv_sb\\lib\\site-packages\\requests\\__init__.py:109: RequestsDependencyWarning: urllib3 (1.26.11) or chardet (5.0.0)/charset_normalizer (2.0.12) doesn't match a supported version!\n",
      "  warnings.warn(\n"
     ]
    }
   ],
   "source": [
    "# Import the packages\n",
    "import pandas as pd\n",
    "from google.cloud import bigquery\n",
    "from google.cloud import bigquery_storage\n",
    "import numpy as np\n",
    "import matplotlib.pyplot as plt\n",
    "import seaborn as sns"
   ]
  },
  {
   "cell_type": "code",
   "execution_count": 16,
   "metadata": {},
   "outputs": [],
   "source": [
    "# Declare some global inputs\n",
    "test_names = [\"'CL_20230428_R_B0_O_AntofagastaClusteringStrategy'\"]\n",
    "test_start_date = \"2023-04-28\"\n",
    "num_bootstrap_samples = 1000 # Number of data points to have on the histogram\n",
    "cl = 0.95\n",
    "left_threshold = round((1 - cl) / 2, 4)\n",
    "right_threshold = round((1 - (1 - cl) / 2), 4)"
   ]
  },
  {
   "cell_type": "code",
   "execution_count": 17,
   "metadata": {},
   "outputs": [
    {
     "name": "stderr",
     "output_type": "stream",
     "text": [
      "g:\\My Drive\\APAC\\Autopricing\\Switchback Testing\\switchback_test_dag\\venv_sb\\lib\\site-packages\\google\\auth\\_default.py:81: UserWarning: Your application has authenticated using end user credentials from Google Cloud SDK without a quota project. You might receive a \"quota exceeded\" or \"API not enabled\" error. We recommend you rerun `gcloud auth application-default login` and make sure a quota project is added. Or you can use service accounts instead. For more information about service accounts, see https://cloud.google.com/docs/authentication/\n",
      "  warnings.warn(_CLOUD_SDK_CREDENTIALS_WARNING)\n"
     ]
    }
   ],
   "source": [
    "# Instantiate the BQ client\n",
    "client = bigquery.Client(project=\"dh-logistics-product-ops\")\n",
    "bqstorage_client = bigquery_storage.BigQueryReadClient()"
   ]
  },
  {
   "cell_type": "code",
   "execution_count": 19,
   "metadata": {},
   "outputs": [
    {
     "name": "stderr",
     "output_type": "stream",
     "text": [
      "Downloading: 100%|██████████| 45154/45154 [00:02<00:00, 16980.57rows/s]\n"
     ]
    }
   ],
   "source": [
    "# Extract order data of these tests\n",
    "orders_query = \"\"\"\n",
    "    SELECT \n",
    "        -- Identifiers and supplementary fields     \n",
    "        -- Date and time\n",
    "        a.created_date AS created_date_utc,\n",
    "\n",
    "        -- Location of order\n",
    "        a.region,\n",
    "        a.entity_id,\n",
    "        a.country_code,\n",
    "        a.city_name,\n",
    "        a.city_id,\n",
    "        a.zone_name,\n",
    "        a.zone_id,\n",
    "\n",
    "        -- Order/customer identifiers and session data\n",
    "        a.variant,\n",
    "        a.experiment_id AS test_id,\n",
    "        b.test_name,\n",
    "        a.platform_order_code,\n",
    "        a.scheme_id,\n",
    "        a.vendor_price_scheme_type,\t-- The assignment type of the scheme to the vendor during the time of the order, such as \"Automatic\", \"Manual\", \"Campaign\", and \"Country Fallback\".\n",
    "        \n",
    "        -- Vendor data and information on the delivery\n",
    "        a.vendor_id,\n",
    "        b.target_group AS target_group_bi,\n",
    "        a.is_in_treatment,\n",
    "        a.chain_id,\n",
    "        a.chain_name,\n",
    "        a.vertical_type,\n",
    "        a.delivery_status,\n",
    "        a.is_own_delivery,\n",
    "        a.exchange_rate,\n",
    "\n",
    "        -- Business KPIs (These are the components of profit)\n",
    "        a.dps_delivery_fee_local,\n",
    "        a.dps_travel_time_fee_local,\n",
    "        a.dps_surge_fee_local,\n",
    "        a.delivery_fee_local,\n",
    "        IF(a.is_delivery_fee_covered_by_discount = TRUE OR a.is_delivery_fee_covered_by_voucher = TRUE, 0, a.delivery_fee_local) AS delivery_fee_local_incl_disc_and_vouchers,\n",
    "        CASE WHEN ent.region != \"MENA\" THEN a.commission_local ELSE COALESCE(mn.commission_amount_lc, a.commission_local) END AS commission_local,\n",
    "        a.joker_vendor_fee_local,\n",
    "        COALESCE(a.service_fee_local, 0) AS service_fee_local,\n",
    "        a.mov_customer_fee_local AS sof_local,\n",
    "        a.delivery_costs_local,\n",
    "        CASE\n",
    "            WHEN ent.region IN (\"Europe\", \"Asia\") THEN COALESCE( -- Get the delivery fee data of Pandora countries from Pandata tables\n",
    "                pd.delivery_fee_local, \n",
    "                -- In 99 pct of cases, we won\"t need to use that fallback logic as pd.delivery_fee_local is reliable\n",
    "                IF(a.is_delivery_fee_covered_by_discount = TRUE OR a.is_delivery_fee_covered_by_voucher = TRUE, 0, a.delivery_fee_local)\n",
    "            )\n",
    "            -- If the order comes from a non-Pandora country, use delivery_fee_local\n",
    "            WHEN ent.region NOT IN (\"Europe\", \"Asia\") THEN (CASE WHEN a.is_delivery_fee_covered_by_discount = TRUE OR a.is_delivery_fee_covered_by_voucher = TRUE THEN 0 ELSE a.delivery_fee_local END)\n",
    "        END AS actual_df_paid_by_customer,\n",
    "        a.gfv_local,\n",
    "        a.gmv_local\n",
    "    FROM `fulfillment-dwh-production.cl.dps_sessions_mapped_to_orders_v2` a\n",
    "    LEFT JOIN `fulfillment-dwh-production.cl.dps_ab_test_orders_v2` b ON a.entity_id = b.entity_id AND a.order_id = b.order_id\n",
    "    LEFT JOIN `fulfillment-dwh-production.pandata_curated.pd_orders` pd -- Contains info on the orders in Pandora countries\n",
    "    ON TRUE \n",
    "        AND a.entity_id = pd.global_entity_id\n",
    "        AND a.platform_order_code = pd.code \n",
    "        AND a.created_date = pd.created_date_utc -- There is no country_code field in this table\n",
    "    LEFT JOIN `tlb-data-prod.data_platform.fct_billing` mn ON a.platform_order_code = CAST(mn.order_id AS STRING) AND a.entity_id IN (\"TB_OM\", \"TB_IQ\", \"TB_AE\", \"TB_KW\", \"YS_TR\", \"TB_QA\", \"TB_JO\", \"HF_EG\", \"HS_SA\", \"TB_BH\")\n",
    "    INNER JOIN `dh-logistics-product-ops.pricing.entities_lb_rollout_tests` ent ON a.entity_id = ent.entity_id -- Get the region associated with every entity_id\n",
    "    WHERE TRUE\n",
    "        AND a.created_date >= DATE(\"{test_start_date}\")\n",
    "        AND b.test_name IN ({test_names}) -- Search for relevant tests\n",
    "        AND a.is_sent -- Successful orders\n",
    "        AND a.is_own_delivery -- OD orders only\n",
    "        AND a.variant != \"Original\" -- Exclude orders from ASAs\n",
    "        AND a.is_match_experiment_vertical -- Filter for sessions where the parent vertical of the vendor matches the parent vertical of the experiment\t\n",
    "    ;\n",
    "\"\"\".format(test_names=', '.join(test_names), test_start_date=test_start_date)\n",
    "\n",
    "# Execute the orders query\n",
    "df_test_data = client.query(orders_query).result().to_dataframe(bqstorage_client=bqstorage_client, progress_bar_type=\"tqdm\")"
   ]
  },
  {
   "cell_type": "code",
   "execution_count": null,
   "metadata": {},
   "outputs": [],
   "source": [
    "# Run the bootstrapping function sequentially\n",
    "df_sim_results = []\n",
    "sim_counter = 1\n",
    "variants_in_test = np.sort(df_test_data[\"variant\"].unique()).tolist() # Get the unique variants in the test and sorts them ascendingly \n",
    "for i in test_names:\n",
    "    test_name_clean = i.replace(\"'\", \"\")\n",
    "    # Filter the data based on the test\n",
    "    df_sub_test = df_test_data[df_test_data[\"test_name\"] == test_name_clean]\n",
    "    \n",
    "    # Elasticity calculated by pct difference in no. of orders / pct difference in average DF\n",
    "    for k in range(1, num_bootstrap_samples + 1):\n",
    "        for j in variants_in_test:\n",
    "            print(f\"Iteration {sim_counter}. Sampling with the following parameters --> test_name: {i}, variant: {j}, and sample_num: {k}\")\n",
    "            df_var_sample = df_sub_test[df_sub_test[\"variant\"] == j].sample(frac=1, replace=True)\n",
    "\n",
    "            # Orders and avg DF\n",
    "            num_orders = df_var_sample[\"platform_order_code\"].nunique()\n",
    "            avg_df = df_var_sample[\"dps_travel_time_fee_local\"].sum() / num_orders\n",
    "\n",
    "            output_dict = {\n",
    "                \"test_name\": test_name_clean,\n",
    "                \"variant\": j,\n",
    "                \"sample_num\": k,\n",
    "                \"num_orders\": num_orders,\n",
    "                \"avg_df\": avg_df,\n",
    "            }\n",
    "\n",
    "            df_sim_results.append(output_dict)\n",
    "            \n",
    "            # Increment the sim counter\n",
    "            sim_counter += 1\n",
    "\n",
    "df_sim_results = pd.DataFrame(df_sim_results)\n",
    "\n",
    "# Convert the numeric columns to numeric data types\n",
    "numeric_cols = [i for i in df_sim_results.columns if i not in [\"test_name\", \"variant\"]]\n",
    "df_sim_results[numeric_cols] = df_sim_results[numeric_cols].apply(lambda x: pd.to_numeric(x))"
   ]
  },
  {
   "cell_type": "code",
   "execution_count": 66,
   "metadata": {},
   "outputs": [
    {
     "data": {
      "text/html": [
       "<div>\n",
       "<style scoped>\n",
       "    .dataframe tbody tr th:only-of-type {\n",
       "        vertical-align: middle;\n",
       "    }\n",
       "\n",
       "    .dataframe tbody tr th {\n",
       "        vertical-align: top;\n",
       "    }\n",
       "\n",
       "    .dataframe thead tr th {\n",
       "        text-align: left;\n",
       "    }\n",
       "</style>\n",
       "<table border=\"1\" class=\"dataframe\">\n",
       "  <thead>\n",
       "    <tr>\n",
       "      <th></th>\n",
       "      <th>test_name</th>\n",
       "      <th>variant</th>\n",
       "      <th colspan=\"3\" halign=\"left\">avg_df</th>\n",
       "    </tr>\n",
       "    <tr>\n",
       "      <th></th>\n",
       "      <th></th>\n",
       "      <th></th>\n",
       "      <th>mean</th>\n",
       "      <th>percentile_left</th>\n",
       "      <th>percentile_right</th>\n",
       "    </tr>\n",
       "  </thead>\n",
       "  <tbody>\n",
       "    <tr>\n",
       "      <th>0</th>\n",
       "      <td>CL_20230428_R_B0_O_AntofagastaClusteringStrategy</td>\n",
       "      <td>Control</td>\n",
       "      <td>1222.983216</td>\n",
       "      <td>1206.476469</td>\n",
       "      <td>1240.520066</td>\n",
       "    </tr>\n",
       "    <tr>\n",
       "      <th>1</th>\n",
       "      <td>CL_20230428_R_B0_O_AntofagastaClusteringStrategy</td>\n",
       "      <td>Variation1</td>\n",
       "      <td>1302.487301</td>\n",
       "      <td>1284.658787</td>\n",
       "      <td>1319.385095</td>\n",
       "    </tr>\n",
       "    <tr>\n",
       "      <th>2</th>\n",
       "      <td>CL_20230428_R_B0_O_AntofagastaClusteringStrategy</td>\n",
       "      <td>Variation2</td>\n",
       "      <td>1242.179227</td>\n",
       "      <td>1224.931719</td>\n",
       "      <td>1256.967372</td>\n",
       "    </tr>\n",
       "  </tbody>\n",
       "</table>\n",
       "</div>"
      ],
      "text/plain": [
       "                                          test_name     variant       avg_df  \\\n",
       "                                                                        mean   \n",
       "0  CL_20230428_R_B0_O_AntofagastaClusteringStrategy     Control  1222.983216   \n",
       "1  CL_20230428_R_B0_O_AntofagastaClusteringStrategy  Variation1  1302.487301   \n",
       "2  CL_20230428_R_B0_O_AntofagastaClusteringStrategy  Variation2  1242.179227   \n",
       "\n",
       "                                    \n",
       "  percentile_left percentile_right  \n",
       "0     1206.476469      1240.520066  \n",
       "1     1284.658787      1319.385095  \n",
       "2     1224.931719      1256.967372  "
      ]
     },
     "execution_count": 66,
     "metadata": {},
     "output_type": "execute_result"
    }
   ],
   "source": [
    "# Calculate the mean elasticity of LBs, non-LBs, and simple LBs per test\n",
    "def percentile_left(x):\n",
    "    return x.quantile(left_threshold)\n",
    "\n",
    "def percentile_right(x):\n",
    "    return x.quantile(right_threshold)\n",
    "\n",
    "list_of_agg_functions = [\"mean\", percentile_left, percentile_right]\n",
    "agg_func_selection = {\n",
    "    \"avg_df\": list_of_agg_functions,\n",
    "}\n",
    "df_stats = df_sim_results.groupby([\"test_name\", \"variant\"])[[\"avg_df\"]].agg(agg_func_selection).reset_index()\n",
    "df_stats"
   ]
  },
  {
   "cell_type": "code",
   "execution_count": 86,
   "metadata": {},
   "outputs": [
    {
     "data": {
      "image/png": "[encoded data removed]",
      "text/plain": [
       "<Figure size 1000x750 with 1 Axes>"
      ]
     },
     "metadata": {},
     "output_type": "display_data"
    }
   ],
   "source": [
    "fig, axes = plt.subplots(figsize = (10,7.5))\n",
    "def plot_func_single(test_name, kpi):\n",
    "    pal = sns.color_palette(\"bright\", len(df_sim_results['variant'].unique()))\n",
    "    sns.histplot(data=df_sim_results[df_sim_results[\"test_name\"] == test_name], x=kpi, hue=\"variant\", palette=pal)\n",
    "\n",
    "    for idx, var in enumerate(df_sim_results[\"variant\"].unique()):\n",
    "        # Retrieve the percentile_left and percentile_right of the variant\n",
    "        percentile_left = df_stats[(df_stats[\"test_name\"] == test_name) & (df_stats[\"variant\"] == var)][kpi]\\\n",
    "        .reset_index(drop=True)[\"percentile_left\"][0]\n",
    "        percentile_right = df_stats[(df_stats[\"test_name\"] == test_name) & (df_stats[\"variant\"] == var)][kpi]\\\n",
    "        .reset_index(drop=True)[\"percentile_right\"][0]\n",
    "\n",
    "        # Plot the \n",
    "        axes.axvline(x = percentile_left, ymin=0, ymax=1, color=pal[idx], linestyle=\"--\", linewidth=2)\n",
    "        axes.axvline(x = percentile_right, ymin=0, ymax=1, color=pal[idx], linestyle=\"--\", linewidth=2)\n",
    "\n",
    "    axes.set_title(test_name, size = 12.5)\n",
    "\n",
    "# Plot the graph\n",
    "plot_func_single(test_name=test_names[0].replace(\"'\", \"\"), kpi=\"avg_df\")"
   ]
  }
 ],
 "metadata": {
  "kernelspec": {
   "display_name": "venv_sb",
   "language": "python",
   "name": "python3"
  },
  "language_info": {
   "codemirror_mode": {
    "name": "ipython",
    "version": 3
   },
   "file_extension": ".py",
   "mimetype": "text/x-python",
   "name": "python",
   "nbconvert_exporter": "python",
   "pygments_lexer": "ipython3",
   "version": "3.10.7"
  },
  "orig_nbformat": 4
 },
 "nbformat": 4,
 "nbformat_minor": 2
}
